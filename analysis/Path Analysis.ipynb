{
 "cells": [
  {
   "cell_type": "code",
   "execution_count": 3,
   "id": "caroline-judges",
   "metadata": {},
   "outputs": [],
   "source": [
    "import pandas as pd\n",
    "\n",
    "path_df = pd.read_csv('trajectory.csv', header=0, names=['t', 'x', 'y', 'theta', 'v', 'w'])"
   ]
  },
  {
   "cell_type": "code",
   "execution_count": 4,
   "id": "perceived-bunny",
   "metadata": {},
   "outputs": [
    {
     "data": {
      "text/html": [
       "<div>\n",
       "<style scoped>\n",
       "    .dataframe tbody tr th:only-of-type {\n",
       "        vertical-align: middle;\n",
       "    }\n",
       "\n",
       "    .dataframe tbody tr th {\n",
       "        vertical-align: top;\n",
       "    }\n",
       "\n",
       "    .dataframe thead th {\n",
       "        text-align: right;\n",
       "    }\n",
       "</style>\n",
       "<table border=\"1\" class=\"dataframe\">\n",
       "  <thead>\n",
       "    <tr style=\"text-align: right;\">\n",
       "      <th></th>\n",
       "      <th>t</th>\n",
       "      <th>x</th>\n",
       "      <th>y</th>\n",
       "      <th>theta</th>\n",
       "      <th>v</th>\n",
       "      <th>w</th>\n",
       "    </tr>\n",
       "  </thead>\n",
       "  <tbody>\n",
       "    <tr>\n",
       "      <th>0</th>\n",
       "      <td>0.533333</td>\n",
       "      <td>0.114023</td>\n",
       "      <td>-0.032303</td>\n",
       "      <td>-0.339719</td>\n",
       "      <td>0.445058</td>\n",
       "      <td>-0.853967</td>\n",
       "    </tr>\n",
       "    <tr>\n",
       "      <th>1</th>\n",
       "      <td>1.066667</td>\n",
       "      <td>0.311131</td>\n",
       "      <td>-0.160128</td>\n",
       "      <td>-0.687618</td>\n",
       "      <td>0.500000</td>\n",
       "      <td>-0.537629</td>\n",
       "    </tr>\n",
       "    <tr>\n",
       "      <th>2</th>\n",
       "      <td>1.600000</td>\n",
       "      <td>0.481240</td>\n",
       "      <td>-0.342670</td>\n",
       "      <td>-0.887065</td>\n",
       "      <td>0.500000</td>\n",
       "      <td>-0.260159</td>\n",
       "    </tr>\n",
       "    <tr>\n",
       "      <th>3</th>\n",
       "      <td>2.133333</td>\n",
       "      <td>0.629074</td>\n",
       "      <td>-0.544188</td>\n",
       "      <td>-0.963269</td>\n",
       "      <td>0.500000</td>\n",
       "      <td>-0.044655</td>\n",
       "    </tr>\n",
       "    <tr>\n",
       "      <th>4</th>\n",
       "      <td>2.666667</td>\n",
       "      <td>0.775522</td>\n",
       "      <td>-0.746793</td>\n",
       "      <td>-0.935742</td>\n",
       "      <td>0.500000</td>\n",
       "      <td>0.154762</td>\n",
       "    </tr>\n",
       "    <tr>\n",
       "      <th>...</th>\n",
       "      <td>...</td>\n",
       "      <td>...</td>\n",
       "      <td>...</td>\n",
       "      <td>...</td>\n",
       "      <td>...</td>\n",
       "      <td>...</td>\n",
       "    </tr>\n",
       "    <tr>\n",
       "      <th>186</th>\n",
       "      <td>93.866667</td>\n",
       "      <td>-0.010000</td>\n",
       "      <td>0.010000</td>\n",
       "      <td>3.310869</td>\n",
       "      <td>0.000000</td>\n",
       "      <td>-0.101556</td>\n",
       "    </tr>\n",
       "    <tr>\n",
       "      <th>187</th>\n",
       "      <td>94.400000</td>\n",
       "      <td>-0.010000</td>\n",
       "      <td>0.010000</td>\n",
       "      <td>3.269374</td>\n",
       "      <td>0.000000</td>\n",
       "      <td>-0.064424</td>\n",
       "    </tr>\n",
       "    <tr>\n",
       "      <th>188</th>\n",
       "      <td>94.933333</td>\n",
       "      <td>-0.010000</td>\n",
       "      <td>0.010000</td>\n",
       "      <td>3.244367</td>\n",
       "      <td>0.000000</td>\n",
       "      <td>-0.035603</td>\n",
       "    </tr>\n",
       "    <tr>\n",
       "      <th>189</th>\n",
       "      <td>95.466667</td>\n",
       "      <td>-0.010000</td>\n",
       "      <td>0.010000</td>\n",
       "      <td>3.232621</td>\n",
       "      <td>0.000000</td>\n",
       "      <td>-0.011380</td>\n",
       "    </tr>\n",
       "    <tr>\n",
       "      <th>190</th>\n",
       "      <td>96.000000</td>\n",
       "      <td>-0.010000</td>\n",
       "      <td>0.010000</td>\n",
       "      <td>3.131593</td>\n",
       "      <td>0.000000</td>\n",
       "      <td>-0.392734</td>\n",
       "    </tr>\n",
       "  </tbody>\n",
       "</table>\n",
       "<p>191 rows × 6 columns</p>\n",
       "</div>"
      ],
      "text/plain": [
       "             t         x         y     theta         v         w\n",
       "0     0.533333  0.114023 -0.032303 -0.339719  0.445058 -0.853967\n",
       "1     1.066667  0.311131 -0.160128 -0.687618  0.500000 -0.537629\n",
       "2     1.600000  0.481240 -0.342670 -0.887065  0.500000 -0.260159\n",
       "3     2.133333  0.629074 -0.544188 -0.963269  0.500000 -0.044655\n",
       "4     2.666667  0.775522 -0.746793 -0.935742  0.500000  0.154762\n",
       "..         ...       ...       ...       ...       ...       ...\n",
       "186  93.866667 -0.010000  0.010000  3.310869  0.000000 -0.101556\n",
       "187  94.400000 -0.010000  0.010000  3.269374  0.000000 -0.064424\n",
       "188  94.933333 -0.010000  0.010000  3.244367  0.000000 -0.035603\n",
       "189  95.466667 -0.010000  0.010000  3.232621  0.000000 -0.011380\n",
       "190  96.000000 -0.010000  0.010000  3.131593  0.000000 -0.392734\n",
       "\n",
       "[191 rows x 6 columns]"
      ]
     },
     "execution_count": 4,
     "metadata": {},
     "output_type": "execute_result"
    }
   ],
   "source": [
    "path_df"
   ]
  },
  {
   "cell_type": "code",
   "execution_count": 6,
   "id": "narrow-doubt",
   "metadata": {},
   "outputs": [
    {
     "data": {
      "text/plain": [
       "<matplotlib.collections.PathCollection at 0x7fdac50abc10>"
      ]
     },
     "execution_count": 6,
     "metadata": {},
     "output_type": "execute_result"
    },
    {
     "data": {
      "image/png": "[encoded data removed]",
      "text/plain": [
       "<Figure size 432x288 with 1 Axes>"
      ]
     },
     "metadata": {
      "needs_background": "light"
     },
     "output_type": "display_data"
    }
   ],
   "source": [
    "%matplotlib inline\n",
    "\n",
    "from matplotlib import pyplot as plt\n",
    "\n",
    "plt.scatter(path_df['x'], path_df['y'])"
   ]
  },
  {
   "cell_type": "code",
   "execution_count": null,
   "id": "lasting-eagle",
   "metadata": {},
   "outputs": [],
   "source": []
  }
 ],
 "metadata": {
  "kernelspec": {
   "display_name": "Python 3",
   "language": "python",
   "name": "python3"
  },
  "language_info": {
   "codemirror_mode": {
    "name": "ipython",
    "version": 3
   },
   "file_extension": ".py",
   "mimetype": "text/x-python",
   "name": "python",
   "nbconvert_exporter": "python",
   "pygments_lexer": "ipython3",
   "version": "3.8.5"
  }
 },
 "nbformat": 4,
 "nbformat_minor": 5
}
